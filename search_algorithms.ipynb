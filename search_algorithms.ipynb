{
 "cells": [
  {
   "cell_type": "markdown",
   "id": "0cc8bd0d",
   "metadata": {},
   "source": [
    "# AI Fall 00 - Computer Assignment 1"
   ]
  },
  {
   "cell_type": "markdown",
   "id": "38856ba3",
   "metadata": {},
   "source": [
    "<div style=\"font-size: 16px\">\n",
    "<b>Paria Khoshtab 810198387</b>\n",
    "<hr>\n",
    "</div>"
   ]
  },
  {
   "cell_type": "markdown",
   "id": "13f6ae74",
   "metadata": {},
   "source": [
    "## Goal"
   ]
  },
  {
   "cell_type": "markdown",
   "id": "278fd2fc",
   "metadata": {},
   "source": [
    "This project aims to get more familiar with `informed` and `uninformed` searching algorithms like `BFS`, `IDS`, `A*`, and `weighted A*`. These search algorithms, give us optimal or suboptimal answers with different execution times."
   ]
  },
  {
   "cell_type": "markdown",
   "id": "d1456f0b",
   "metadata": {},
   "source": [
    "## Brief Description"
   ]
  },
  {
   "cell_type": "markdown",
   "id": "ab6a523f",
   "metadata": {},
   "source": [
    "In this problem, we have an n*m map whose houses are labeled with `food`, `duplicator` or `wall`.\n",
    "At first, we have one agent placed in (0, 0), but if a duplicator is eaten by an agent, the agent will be\n",
    "doubled and the new agent will be placed in (n - 1, 0). Finally, all the foods must be eaten by agents, and \n",
    "agents must reach (n - 1, m - 1); we must find a minimum number of moves to reach the mentioned goal."
   ]
  },
  {
   "cell_type": "markdown",
   "id": "8bef1b98",
   "metadata": {},
   "source": [
    "## Modeling the Problem"
   ]
  },
  {
   "cell_type": "markdown",
   "id": "260789b4",
   "metadata": {},
   "source": [
    "The state space of this problem consists of states including information about the position of agents, foods, and duplicators. Also, each state contains information about the parent node and the depth of this node.\n",
    "\n",
    "\n",
    "**Initial State**: This state consists of initial map of foods and duplicators with an agent placing in (0, 0).\n",
    "    \n",
    "    \n",
    "**Actions**: \n",
    "    1) Moving left, right, up and down for one agent at a time \n",
    "    2) Eating foods/duplicators\n",
    "\n",
    "    \n",
    "**Transition Model**: 1) If you move an agent in any direction, the agent will end up in a new position. \n",
    "    2) If an agent eats a food/duplicator, the food/duplicator will be removed from map.\n",
    "\n",
    "    \n",
    "**Goal State**:1) There is no more food in the map. \n",
    "    2) All the agents are placed in (n - 1, m - 1).\n",
    "\n",
    "    \n",
    "**Path Cost**: 1 per move of an agent"
   ]
  },
  {
   "cell_type": "markdown",
   "id": "828d13ab",
   "metadata": {},
   "source": [
    "First we have to import necessary libraries."
   ]
  },
  {
   "cell_type": "code",
   "execution_count": 1,
   "id": "e503f621",
   "metadata": {},
   "outputs": [],
   "source": [
    "import copy\n",
    "import collections\n",
    "import time\n",
    "import math\n",
    "import heapq\n",
    "import bisect"
   ]
  },
  {
   "cell_type": "markdown",
   "id": "a89d5a5f",
   "metadata": {},
   "source": [
    "In the code below, we read each line of the input file and save the information about foods,\n",
    "duplicators and walls in the map."
   ]
  },
  {
   "cell_type": "code",
   "execution_count": 2,
   "id": "e9dc46b9",
   "metadata": {},
   "outputs": [],
   "source": [
    "file = open(\"Tests/test3.in\")\n",
    "n, m = file.readline().split()\n",
    "c, k = file.readline().split()\n",
    "foods = []\n",
    "duplicators = []\n",
    "walls = []\n",
    "for i in range(int(c)):\n",
    "    x, y = file.readline().split()\n",
    "    foods.append([int(x), int(y)])\n",
    "\n",
    "for i in range(int(k)):\n",
    "    x, y = file.readline().split()\n",
    "    duplicators.append([int(x), int(y)])\n",
    "    \n",
    "d = file.readline()\n",
    "\n",
    "for i in range(int(d)):\n",
    "    x, y = file.readline().split()\n",
    "    walls.append([int(x), int(y)])"
   ]
  },
  {
   "cell_type": "markdown",
   "id": "4476a339",
   "metadata": {},
   "source": [
    "We create a class called `Agent` containing the `ID` and `position` of an agent."
   ]
  },
  {
   "cell_type": "code",
   "execution_count": 3,
   "id": "b6ce5284",
   "metadata": {},
   "outputs": [],
   "source": [
    "class Agent:\n",
    "    def __init__(self, x, y, ID):\n",
    "        self.x = x\n",
    "        self.y = y\n",
    "        self.ID = ID\n",
    "    \n",
    "    def to_string(self):\n",
    "        return str(self.x) + str(self.y) + str(self.ID)"
   ]
  },
  {
   "cell_type": "markdown",
   "id": "ec8fc25f",
   "metadata": {},
   "source": [
    "In each state, we should store the position of agents, foods, and duplicators, the path to reach this state, and the depth of this node in a search tree. So we implement the `State` class as shown below:"
   ]
  },
  {
   "cell_type": "code",
   "execution_count": 4,
   "id": "759905fe",
   "metadata": {},
   "outputs": [],
   "source": [
    "class State:\n",
    "    def __init__(self, ID, agents, foods, duplicators, parent = None, path = None):\n",
    "        self.ID = ID\n",
    "        self.agents = agents\n",
    "        self.foods = foods\n",
    "        self.duplicators = duplicators\n",
    "        self.parent = parent\n",
    "        self.path = path\n",
    "        if parent == None:\n",
    "            self.depth = 0\n",
    "            self.path = ''\n",
    "        else: \n",
    "            self.depth = parent.depth + 1\n",
    "            \n",
    "    \n",
    "    def to_string(self):\n",
    "        result = ''\n",
    "        for agent in self.agents:\n",
    "            result += agent.to_string()\n",
    "        for food in self.foods:\n",
    "            result += str(food)\n",
    "        for dup in self.duplicators:\n",
    "            result += str(dup)\n",
    "        return result\n"
   ]
  },
  {
   "cell_type": "markdown",
   "id": "281e88be",
   "metadata": {},
   "source": [
    "We define some necessary functions repeating in all the algorithms:\n",
    "\n",
    "* **is_goal**: This function checks whether we have reached our goal or not\n",
    "* **not_wall**: This function checks whether the new position is wall or not\n",
    "* **get_move**: This function prints the action(moving in any direction)\n",
    "\n",
    "Also, we define a 2d array for storing directions, called `directions`."
   ]
  },
  {
   "cell_type": "code",
   "execution_count": 5,
   "id": "93d1821e",
   "metadata": {},
   "outputs": [],
   "source": [
    "directions = [[1, 0], [-1, 0], [0, 1], [0, -1]]\n",
    "\n",
    "def is_goal(state):\n",
    "    for agent in state.agents:\n",
    "        if agent.x != (int(n) - 1) or agent.y != (int(m) - 1):\n",
    "            return False\n",
    "    return len(state.foods) == 0\n",
    "\n",
    "\n",
    "def not_wall(x, y):\n",
    "    return x >= 0 and x < int(n) and y >= 0 and y < int(m) and [x, y] not in walls\n",
    "\n",
    "def get_move(direction, agent):\n",
    "    result = str(agent.ID)\n",
    "    if direction == [0, 1]:\n",
    "        result += 'R'\n",
    "    elif direction == [1, 0]:\n",
    "        result += 'U'\n",
    "    elif direction == [-1, 0]:\n",
    "        result += 'D'\n",
    "    elif direction == [0, -1]:\n",
    "        result += 'L'\n",
    "    return result"
   ]
  },
  {
   "cell_type": "markdown",
   "id": "1d33771a",
   "metadata": {},
   "source": [
    "## BFS"
   ]
  },
  {
   "cell_type": "markdown",
   "id": "35280f68",
   "metadata": {},
   "source": [
    "The `Breadth First Search` (BFS) is an algorithm for traversing or searching that explores all the nodes at \n",
    "the present depth before moving on to the nodes at the next depth level.\n",
    "This algorithm has a queue as its frontier for keeping track of the child nodes encountered but \n",
    "not yet explored and a set as it's explored.\n",
    "\n",
    "Advantages: BFS is a complete and optimal uninformed search algorithm.\n",
    "    \n",
    "* Time complexity: $O(b^d)$\n",
    "* Space complexity: $O(b^d)$"
   ]
  },
  {
   "cell_type": "code",
   "execution_count": 6,
   "id": "d17ac47d",
   "metadata": {},
   "outputs": [],
   "source": [
    "def BFS(initial_state):\n",
    "    ID_maker = 1\n",
    "    explored = set()\n",
    "    frontier = []\n",
    "    frontier.append(initial_state)\n",
    "    if [0, 0] in initial_state.foods:\n",
    "        initial_state = [i for i in initial_state.foods if i not in [[0, 0]]]\n",
    "    if [0, 0] in initial_state.duplicators:\n",
    "        initial_state.duplicators = [i for i in initial_state.duplicators if i not in [[0, 0]]]\n",
    "        new_agent = Agent(int(n) - 1, 0, 2)\n",
    "        initial_state.agents.append(new_agent)\n",
    "    explored.add(initial_state.to_string())\n",
    "    if(is_goal(initial_state)):\n",
    "        return initial_state    \n",
    "    while(len(frontier)):\n",
    "        state = frontier.pop(0)\n",
    "        for index in range(len(state.agents)): \n",
    "            agent = state.agents[index];\n",
    "            for d in directions:\n",
    "                x = agent.x + d[0]\n",
    "                y = agent.y + d[1]\n",
    "                if not_wall(x, y):\n",
    "                    new_agents = copy.deepcopy(state.agents)\n",
    "                    new_foods = copy.deepcopy(state.foods)\n",
    "                    new_duplicators = copy.deepcopy(state.duplicators)\n",
    "                    new_path = copy.deepcopy(state.path) + get_move(d, agent) + ' '\n",
    "                    new_agents[index].x = x\n",
    "                    new_agents[index].y = y\n",
    "                    if [x, y] in state.foods :\n",
    "                        new_foods = [i for i in new_foods if i not in [[x, y]]]\n",
    "                    elif [x, y] in state.duplicators:\n",
    "                        new_duplicators = [i for i in new_duplicators if i not in [[x, y]]]\n",
    "                        new_agent = Agent(int(n) - 1, 0, len(new_agents) + 1)\n",
    "                        new_agents.append(new_agent)\n",
    "                    ID_maker += 1\n",
    "                    new_state = State(ID_maker, new_agents, new_foods, new_duplicators, state, new_path)\n",
    "                    if new_state.to_string() not in explored:\n",
    "                        if is_goal(new_state):\n",
    "                            return new_state                    \n",
    "                        frontier.append(new_state)\n",
    "                        explored.add(new_state.to_string())"
   ]
  },
  {
   "cell_type": "markdown",
   "id": "b85a0722",
   "metadata": {},
   "source": [
    "Now we initialize the initial state and call the BFS function.\n",
    "\n",
    "Also, we set an ID for each state, so the ID of the goal state shows us the total number of seen states."
   ]
  },
  {
   "cell_type": "code",
   "execution_count": 7,
   "id": "fbfc2a65",
   "metadata": {},
   "outputs": [],
   "source": [
    "initial_state = State(1, [Agent(0, 0, 1)], foods, duplicators)"
   ]
  },
  {
   "cell_type": "code",
   "execution_count": 8,
   "id": "630f937a",
   "metadata": {
    "scrolled": true
   },
   "outputs": [
    {
     "name": "stdout",
     "output_type": "stream",
     "text": [
      "Execution Time:  24.29929280281067\n",
      "Goal State Depth:  19\n",
      "Goal State Path:  1U 1U 1R 1R 1D 1R 1R 1R 1U 1U 1U 1U 2R 2R 2R 2D 2U 2R 2R \n",
      "Number of Seen States:  557667\n"
     ]
    }
   ],
   "source": [
    "start = time.time()\n",
    "goal_state = BFS(initial_state)\n",
    "end = time.time()\n",
    "print(\"Execution Time: \", end - start)\n",
    "print(\"Goal State Depth: \", goal_state.depth)\n",
    "print(\"Goal State Path: \", goal_state.path)\n",
    "print(\"Number of Seen States: \", goal_state.ID)"
   ]
  },
  {
   "cell_type": "markdown",
   "id": "9521bdd9",
   "metadata": {},
   "source": [
    "<table style = \"width: 85%; font-size: 14px; margin-left:auto; margin-right:auto;\">\n",
    "    <tr style = \"text-align: left\">\n",
    "        <th style = \"text-align: left\">Test</th>\n",
    "        <th style = \"text-align: left\">Goal Depth</th>\n",
    "        <th style = \"text-align: left\">Seen States</th>\n",
    "        <th style = \"text-align: left\">Mean Execution Time</th>\n",
    "    </tr>\n",
    "    <tr>\n",
    "        <td style = \"text-align: left\">1</td>\n",
    "        <td style = \"text-align: left\">11</td>\n",
    "        <td style = \"text-align: left\">3811</td>\n",
    "        <td style = \"text-align: left\"> 0.12343207995096843</td>\n",
    "    </tr>\n",
    "    <tr>\n",
    "        <td style = \"text-align: left\">2</td>\n",
    "        <td style = \"text-align: left\">11</td>\n",
    "        <td style = \"text-align: left\">494723</td>\n",
    "        <td style = \"text-align: left\"> 22.04292933146159</td>\n",
    "    </tr>\n",
    "    <tr>\n",
    "        <td style = \"text-align: left\">3</td>\n",
    "        <td style = \"text-align: left\">19</td>\n",
    "        <td style = \"text-align: left\">557667</td>\n",
    "        <td style = \"text-align: left\"> 23.191426038742065</td>\n",
    "    </tr>\n",
    "</table>"
   ]
  },
  {
   "cell_type": "markdown",
   "id": "16111b0d",
   "metadata": {},
   "source": [
    "## IDS"
   ]
  },
  {
   "cell_type": "markdown",
   "id": "c80b0d03",
   "metadata": {},
   "source": [
    "`Iterative Deepening Search` (IDS) takes advantage of the completeness of BFS but uses much less memory in\n",
    "each iteration (like DFS).\n",
    "IDS calls DLS for different depths starting from an initial value. \n",
    "In DLS, we first set a constraint on how deep will we go.<br>\n",
    "Advantages: IDS is a complete and an optimal uninformed search algorithm that uses much\n",
    "less memory than BFS.\n",
    "\n",
    "* Time Complexity: $O(b^d)$\n",
    "* Space Complexity: $O(bd)$\n",
    "\n",
    "IDS has a lot more time complexity in this problem than BFS and A*, because goal states have big depth. "
   ]
  },
  {
   "cell_type": "code",
   "execution_count": 9,
   "id": "13ac20e1",
   "metadata": {},
   "outputs": [],
   "source": [
    "ID_maker = 1\n",
    "def DLS(state, explored, depth):\n",
    "    global ID_maker\n",
    "    explored.add((state.to_string(), state.depth))\n",
    "    if is_goal(state):\n",
    "        return state\n",
    "    elif depth == 0:\n",
    "        return None  \n",
    "    for index in range(len(state.agents)): \n",
    "        agent = state.agents[index];\n",
    "        for d in directions:\n",
    "            x = agent.x + d[0]\n",
    "            y = agent.y + d[1]\n",
    "            if not_wall(x, y):\n",
    "                new_agents = copy.deepcopy(state.agents)\n",
    "                new_foods = copy.deepcopy(state.foods)\n",
    "                new_duplicators = copy.deepcopy(state.duplicators)\n",
    "                new_path = copy.deepcopy(state.path) + get_move(d, agent) + ' '\n",
    "                new_agents[index].x = x\n",
    "                new_agents[index].y = y\n",
    "                if [x, y] in state.foods:\n",
    "                    new_foods = [i for i in new_foods if i not in [[x, y]]]\n",
    "                elif [x, y] in state.duplicators:\n",
    "                    new_duplicators = [i for i in new_duplicators if i not in [[x, y]]]\n",
    "                    new_agent = Agent(int(n) - 1, 0, len(new_agents) + 1)\n",
    "                    new_agents.append(new_agent)\n",
    "                ID_maker += 1\n",
    "                new_state = State(ID_maker, new_agents, new_foods, new_duplicators, state, new_path)\n",
    "                if (new_state.to_string(), new_state.depth) not in explored:\n",
    "                    result = DLS(new_state, explored, depth - 1)\n",
    "                    if result != None:\n",
    "                        return result"
   ]
  },
  {
   "cell_type": "markdown",
   "id": "4cf16350",
   "metadata": {},
   "source": [
    "`DLS` function is an iterative depth-limited searching algorithm with depth as its parameter but IDS function\n",
    "repeatedly calls DLS function and increases the depth by one unit, until the algorithm reaches the goal.>"
   ]
  },
  {
   "cell_type": "code",
   "execution_count": 10,
   "id": "67430644",
   "metadata": {},
   "outputs": [],
   "source": [
    "def IDS(initial_state):\n",
    "    depth = 0\n",
    "    while True:\n",
    "        explored = set()\n",
    "        final_state = DLS(initial_state, explored, depth)\n",
    "        if final_state != None:\n",
    "            break\n",
    "        depth += 1       \n",
    "    return final_state"
   ]
  },
  {
   "cell_type": "code",
   "execution_count": 11,
   "id": "ef3344fe",
   "metadata": {},
   "outputs": [
    {
     "name": "stdout",
     "output_type": "stream",
     "text": [
      "Execution Time:  95.30243825912476\n",
      "Goal State Depth:  19\n",
      "Goal State Path:  1U 1U 1R 1R 1D 1R 1R 1R 1U 1U 1U 1U 2R 2R 2R 2D 2U 2R 2R \n",
      "Number of Seen States:  2401959\n"
     ]
    }
   ],
   "source": [
    "start = time.time()\n",
    "goal_state = IDS(initial_state)\n",
    "end = time.time()\n",
    "print(\"Execution Time: \", end - start)\n",
    "print(\"Goal State Depth: \", goal_state.depth)\n",
    "print(\"Goal State Path: \", goal_state.path)\n",
    "print(\"Number of Seen States: \", goal_state.ID)"
   ]
  },
  {
   "cell_type": "markdown",
   "id": "b0fc0ea5",
   "metadata": {},
   "source": [
    "<table style = \"width: 85%; font-size: 14px; margin-left:auto; margin-right:auto;\">\n",
    "    <tr style = \"text-align: left\">\n",
    "        <th style = \"text-align: left\">Test</th>\n",
    "        <th style = \"text-align: left\">Goal Depth</th>\n",
    "        <th style = \"text-align: left\">Seen States</th>\n",
    "        <th style = \"text-align: left\">Mean Execution Time</th>\n",
    "    </tr>\n",
    "    <tr>\n",
    "        <td style = \"text-align: left\">1</td>\n",
    "        <td style = \"text-align: left\">11</td>\n",
    "        <td style = \"text-align: left\">23442</td>\n",
    "        <td style = \"text-align: left\"> 0.6954633394877116</td>\n",
    "    </tr>\n",
    "    <tr>\n",
    "        <td style = \"text-align: left\">2</td>\n",
    "        <td style = \"text-align: left\">11</td>\n",
    "        <td style = \"text-align: left\">1260901</td>\n",
    "        <td style = \"text-align: left\"> 52.690138816833496</td>\n",
    "    </tr>\n",
    "    <tr>\n",
    "        <td style = \"text-align: left\">3</td>\n",
    "        <td style = \"text-align: left\">19</td>\n",
    "        <td style = \"text-align: left\">2401959</td>\n",
    "        <td style = \"text-align: left\"> 92.9502682685852</td>\n",
    "    </tr>\n",
    "</table>"
   ]
  },
  {
   "cell_type": "markdown",
   "id": "f408ca02",
   "metadata": {},
   "source": [
    "## A*"
   ]
  },
  {
   "cell_type": "markdown",
   "id": "c306f9fb",
   "metadata": {},
   "source": [
    "`A*` is an extension of `Dijkstra's algorithm` with some characteristics of `BFS`; This avoids expanding paths that are already expensive.\n",
    "The A* algorithm introduces a heuristic, essentially planning ahead at each step so a more optimal decision is made.\n",
    "The evaluation function f(n) is the estimated total cost of the path through node n to the goal:\n",
    "\n",
    "f(n) = g(n) + h(n)\n",
    "\n",
    "g(n): cost so far to reach n(path cost)\n",
    "\n",
    "h(n): estimated cost from n to goal(heuristic)\n",
    "\n",
    "Advantages: A* is a complete and optimal(if h(n) is admissible/consistent) uninformed search algorithm that \n",
    "is usually faster than IDS and BFS.\n",
    "\n",
    "* Time Complexity: number of nodes which heuristic expands\n",
    "* Space Complexity: exponential\n",
    "\n",
    "The heuristic function we use here is the maximum Manhattan distance from an agent position to the destination(n - 1, m - 1)\n",
    "\n",
    "The depth of our current state is our cost so far to reach n.\n",
    "Our heuristic function is **Consistent**.\n",
    "\n",
    "**Prove**: From the definition, we know a heuristic function is consistent if:\n",
    "We have state B after state A and the real cost of A to B is greater than or equal to the cost implied by heuristics.\n",
    "So it is obvious that in our heuristic, h(B) is at most one unit more than h(A) because each agent is only allowed\n",
    "one unit per move in any direction, but the cost(A to B) is at least one because the minimum depth between two states\n",
    "is at least one, so we have: cost(A to B) >= h(B)-h(A)"
   ]
  },
  {
   "cell_type": "code",
   "execution_count": 12,
   "id": "a79e0feb",
   "metadata": {},
   "outputs": [],
   "source": [
    "def get_manhattan_heuristic(state):\n",
    "    max_distance = -1\n",
    "    for agent in state.agents:\n",
    "        if max_distance < (abs(int(m) - agent.y)) + (abs(int(n) - agent.x)):\n",
    "            max_distance = (abs(int(m) - agent.y)) + (abs(int(n) - agent.x))\n",
    "    return max_distance"
   ]
  },
  {
   "cell_type": "markdown",
   "id": "75032474",
   "metadata": {},
   "source": [
    "We create priority queue class as shown below to implement the approriate data structure as froniter in A* algorithm.\n",
    "In this data structure you can pop the node with highest priority in O(1)."
   ]
  },
  {
   "cell_type": "code",
   "execution_count": 13,
   "id": "969a02b1",
   "metadata": {},
   "outputs": [],
   "source": [
    "class PriorityQueue:\n",
    "    def __init__(self):\n",
    "        self.queue = []\n",
    "        self.index = 0\n",
    " \n",
    "    def push(self, item, priority):\n",
    "        bisect.insort(self.queue, (priority, self.index, item))\n",
    "        self.index += 1\n",
    " \n",
    "    def pop(self):\n",
    "        return heapq.heappop(self.queue)[-1]\n",
    "    \n",
    "    def is_empty(self):\n",
    "        return len(self.queue) == 0"
   ]
  },
  {
   "cell_type": "code",
   "execution_count": 14,
   "id": "9a614faf",
   "metadata": {},
   "outputs": [],
   "source": [
    "def AStar(initial_state):\n",
    "    ID_maker = 1\n",
    "    explored = set()\n",
    "    frontier = PriorityQueue()\n",
    "    frontier.push(initial_state, get_manhattan_heuristic(initial_state) + initial_state.depth)\n",
    "    if [0, 0] in initial_state.foods:\n",
    "        initial_state = [i for i in initial_state.foods if i not in [[0, 0]]]\n",
    "    if [0, 0] in initial_state.duplicators:\n",
    "        initial_state.duplicators = [i for i in initial_state.duplicators if i not in [[0, 0]]]\n",
    "        new_agent = Agent(int(n) - 1, 0, 2)\n",
    "        initial_state.agents.append(new_agent)\n",
    "    explored.add(initial_state.to_string())\n",
    "    if(is_goal(initial_state)):\n",
    "        return initial_state    \n",
    "    while not frontier.is_empty():\n",
    "        state = frontier.pop()\n",
    "        for index in range(len(state.agents)): \n",
    "            agent = state.agents[index];\n",
    "            for d in directions:\n",
    "                x = agent.x + d[0]\n",
    "                y = agent.y + d[1]\n",
    "                if not_wall(x, y):\n",
    "                    new_agents = copy.deepcopy(state.agents)\n",
    "                    new_foods = copy.deepcopy(state.foods)\n",
    "                    new_duplicators = copy.deepcopy(state.duplicators)\n",
    "                    new_path = copy.deepcopy(state.path) + get_move(d, agent) + ' '\n",
    "                    new_agents[index].x = x\n",
    "                    new_agents[index].y = y\n",
    "                    if [x, y] in state.foods:\n",
    "                        new_foods = [i for i in new_foods if i not in [[x, y]]]\n",
    "                    elif [x, y] in state.duplicators:\n",
    "                        new_duplicators = [i for i in new_duplicators if i not in [[x, y]]]\n",
    "                        new_agent = Agent(int(n) - 1, 0, len(new_agents) + 1)\n",
    "                        new_agents.append(new_agent)\n",
    "                    ID_maker += 1\n",
    "                    new_state = State(ID_maker, new_agents, new_foods, new_duplicators, state, new_path)\n",
    "                    if new_state.to_string() not in explored:\n",
    "                        if is_goal(new_state):\n",
    "                            return new_state                    \n",
    "                        frontier.push(new_state, get_manhattan_heuristic(new_state) + new_state.depth)\n",
    "                        explored.add(new_state.to_string())    "
   ]
  },
  {
   "cell_type": "code",
   "execution_count": 15,
   "id": "13b77126",
   "metadata": {
    "scrolled": true
   },
   "outputs": [
    {
     "name": "stdout",
     "output_type": "stream",
     "text": [
      "Execution Time:  3.012855052947998\n",
      "Goal State Depth:  19\n",
      "Goal State Path:  1U 1U 1R 1R 2R 1D 1R 2R 2R 1R 1R 1U 2D 2R 1U 1U 2U 2R 1U \n",
      "Number of Seen States:  71143\n"
     ]
    }
   ],
   "source": [
    "start = time.time()\n",
    "goal_state = AStar(initial_state)\n",
    "end = time.time()\n",
    "print(\"Execution Time: \", end - start)\n",
    "print(\"Goal State Depth: \", goal_state.depth)\n",
    "print(\"Goal State Path: \", goal_state.path)\n",
    "print(\"Number of Seen States: \", goal_state.ID)"
   ]
  },
  {
   "cell_type": "markdown",
   "id": "2f822d1b",
   "metadata": {},
   "source": [
    "<table style = \"width: 85%; font-size: 14px; margin-left:auto; margin-right:auto;\">\n",
    "    <tr style = \"text-align: left\">\n",
    "        <th style = \"text-align: left\">Test</th>\n",
    "        <th style = \"text-align: left\">Goal Depth</th>\n",
    "        <th style = \"text-align: left\">Seen States</th>\n",
    "        <th style = \"text-align: left\">Mean Execution Time</th>\n",
    "    </tr>\n",
    "    <tr>\n",
    "        <td style = \"text-align: left\">1</td>\n",
    "        <td style = \"text-align: left\">11</td>\n",
    "        <td style = \"text-align: left\">2030</td>\n",
    "        <td style = \"text-align: left\"> 0.09650699297587077</td>\n",
    "    </tr>\n",
    "    <tr>\n",
    "        <td style = \"text-align: left\">2</td>\n",
    "        <td style = \"text-align: left\">11</td>\n",
    "        <td style = \"text-align: left\">38120</td>\n",
    "        <td style = \"text-align: left\"> 1.9440749486287434</td>\n",
    "    </tr>\n",
    "    <tr>\n",
    "        <td style = \"text-align: left\">3</td>\n",
    "        <td style = \"text-align: left\">19</td>\n",
    "        <td style = \"text-align: left\">71143</td>\n",
    "        <td style = \"text-align: left\"> 3.2238033612569175</td>\n",
    "    </tr>\n",
    "</table>"
   ]
  },
  {
   "cell_type": "markdown",
   "id": "46738a4f",
   "metadata": {},
   "source": [
    "## Weighted A*"
   ]
  },
  {
   "cell_type": "markdown",
   "id": "16c280ca",
   "metadata": {},
   "source": [
    "`Weighted A*` is a variant of A* commonly used for suboptimal search.\n",
    "It is exactly the same as A* butwhere the f-value is computed differently: f(n) = g(n) + alpha*h(n)\n",
    "\n",
    "\n",
    "Weighted A* search algorithm speedup search at expense of optimality.\n",
    "This algorithm multiplies the admissible heuristic by some constant factor(alpha > 1), and then performs an A* search as usual.\n",
    "\n",
    "\n",
    "Although weighted A* expands fewer nodes, there is no guarantee that it will necessarily\n",
    "find the optimal solution."
   ]
  },
  {
   "cell_type": "code",
   "execution_count": 16,
   "id": "d9e68a0e",
   "metadata": {},
   "outputs": [],
   "source": [
    "def weighted_AStar(initial_state):\n",
    "    alpha = 1.5\n",
    "#     alpha = 1.8\n",
    "    ID_maker = 1\n",
    "    explored = set()\n",
    "    frontier = PriorityQueue()\n",
    "    frontier.push(initial_state, get_manhattan_heuristic(initial_state)*alpha + initial_state.depth)\n",
    "    if [0, 0] in initial_state.foods:\n",
    "        initial_state = [i for i in initial_state.foods if i not in [[0, 0]]]\n",
    "    if [0, 0] in initial_state.duplicators:\n",
    "        initial_state.duplicators = [i for i in initial_state.duplicators if i not in [[0, 0]]]\n",
    "        new_agent = Agent(int(n) - 1, 0, 2)\n",
    "        initial_state.agents.append(new_agent)\n",
    "    explored.add(initial_state.to_string())\n",
    "    if(is_goal(initial_state)):\n",
    "        return initial_state    \n",
    "    while not frontier.is_empty():\n",
    "        state = frontier.pop()\n",
    "        for index in range(len(state.agents)): \n",
    "            agent = state.agents[index];\n",
    "            for d in directions:\n",
    "                x = agent.x + d[0]\n",
    "                y = agent.y + d[1]\n",
    "                if not_wall(x, y):\n",
    "                    new_agents = copy.deepcopy(state.agents)\n",
    "                    new_foods = copy.deepcopy(state.foods)\n",
    "                    new_duplicators = copy.deepcopy(state.duplicators)\n",
    "                    new_path = copy.deepcopy(state.path) + get_move(d, agent) + ' '\n",
    "                    new_agents[index].x = x\n",
    "                    new_agents[index].y = y\n",
    "                    if [x, y] in state.foods:\n",
    "                        new_foods = [i for i in new_foods if i not in [[x, y]]]\n",
    "                    elif [x, y] in state.duplicators:\n",
    "                        new_duplicators = [i for i in new_duplicators if i not in [[x, y]]]\n",
    "                        new_agent = Agent(int(n) - 1, 0, len(new_agents) + 1)\n",
    "                        new_agents.append(new_agent)\n",
    "                    ID_maker += 1\n",
    "                    new_state = State(ID_maker, new_agents, new_foods, new_duplicators, state, new_path)\n",
    "                    if new_state.to_string() not in explored:\n",
    "                        if is_goal(new_state):\n",
    "                            return new_state                    \n",
    "                        frontier.push(new_state, get_manhattan_heuristic(new_state)*alpha + new_state.depth)\n",
    "                        explored.add(new_state.to_string())    "
   ]
  },
  {
   "cell_type": "code",
   "execution_count": 17,
   "id": "da27f4f8",
   "metadata": {},
   "outputs": [
    {
     "name": "stdout",
     "output_type": "stream",
     "text": [
      "Execution Time:  0.7893800735473633\n",
      "Goal State Depth:  19\n",
      "Goal State Path:  1U 1U 1R 1R 1D 1R 1R 1R 2R 2R 1U 2R 1U 1U 2D 2R 2R 1U 2U \n",
      "Number of Seen States:  18274\n"
     ]
    }
   ],
   "source": [
    "start = time.time()\n",
    "goal_state = weighted_AStar(initial_state)\n",
    "end = time.time()\n",
    "print(\"Execution Time: \", end - start)\n",
    "print(\"Goal State Depth: \", goal_state.depth)\n",
    "print(\"Goal State Path: \", goal_state.path)\n",
    "print(\"Number of Seen States: \", goal_state.ID)"
   ]
  },
  {
   "cell_type": "markdown",
   "id": "13963e6b",
   "metadata": {},
   "source": [
    "<table style = \"width: 85%; font-size: 14px; margin-left:auto; margin-right:auto;\">\n",
    "    <tr style = \"text-align: left\">\n",
    "        <th style = \"text-align: left\">Test</th>\n",
    "        <th style = \"text-align: left\">Alpha</th>\n",
    "        <th style = \"text-align: left\">Goal Depth</th>\n",
    "        <th style = \"text-align: left\">Seen States</th>\n",
    "        <th style = \"text-align: left\">Mean Execution Time</th>\n",
    "    </tr>\n",
    "    <tr>\n",
    "        <td style = \"text-align: left\">1</td>\n",
    "        <td style = \"text-align: left\">1.5</td>\n",
    "        <td style = \"text-align: left\">11</td>\n",
    "        <td style = \"text-align: left\">1262</td>\n",
    "        <td style = \"text-align: left\"> 0.05303311347961426</td>\n",
    "    </tr>\n",
    "    </tr>\n",
    "        <tr>\n",
    "        <td style = \"text-align: left\">1</td>\n",
    "        <td style = \"text-align: left\">1.8</td>\n",
    "        <td style = \"text-align: left\">11</td>\n",
    "        <td style = \"text-align: left\">743</td>\n",
    "        <td style = \"text-align: left\"> 0.035580952962239586</td>\n",
    "    </tr>\n",
    "    <tr>\n",
    "        <td style = \"text-align: left\">2</td>\n",
    "        <td style = \"text-align: left\">1.5</td>\n",
    "        <td style = \"text-align: left\">11</td>\n",
    "        <td style = \"text-align: left\">7006</td>\n",
    "        <td style = \"text-align: left\"> 0.3737959861755371</td>\n",
    "    </tr>\n",
    "    <tr>\n",
    "        <td style = \"text-align: left\">2</td>\n",
    "        <td style = \"text-align: left\">1.8</td>\n",
    "        <td style = \"text-align: left\">11</td>\n",
    "        <td style = \"text-align: left\">2838</td>\n",
    "        <td style = \"text-align: left\"> 0.17054128646850586</td>\n",
    "    </tr>\n",
    "    <tr>\n",
    "        <td style = \"text-align: left\">3</td>\n",
    "        <td style = \"text-align: left\">1.5</td>\n",
    "        <td style = \"text-align: left\">19</td>\n",
    "        <td style = \"text-align: left\">18274</td>\n",
    "        <td style = \"text-align: left\"> 0.8635300000508627</td>\n",
    "    <tr>\n",
    "        <td style = \"text-align: left\">3</td>\n",
    "        <td style = \"text-align: left\">1.8</td>\n",
    "        <td style = \"text-align: left\">19</td>\n",
    "        <td style = \"text-align: left\">12325</td>\n",
    "        <td style = \"text-align: left\"> 0.5862730344136556</td>\n",
    "    </tr>\n",
    "</table>"
   ]
  },
  {
   "cell_type": "markdown",
   "id": "fa8f62ee",
   "metadata": {},
   "source": [
    "## Conclusion"
   ]
  },
  {
   "cell_type": "markdown",
   "id": "9f58c72b",
   "metadata": {},
   "source": [
    "here are a lot of searching algorithms, grouped into informed and uninformed that we can use the desired one\n",
    "depending on our needs (time complexity, space complexity, optimality, ...).\n",
    "\n",
    "In general, \n",
    "between both informed and uninformed search techniques, the informed search is more efficient and cost-effective in\n",
    "terms of space and time complexity, because informed search algorithms use \"domain knowledge\" (heuristic function). "
   ]
  },
  {
   "cell_type": "markdown",
   "id": "beff5ef7",
   "metadata": {},
   "source": [
    "## References"
   ]
  },
  {
   "cell_type": "markdown",
   "id": "d698f191",
   "metadata": {},
   "source": [
    "https://www.educative.io/edpresso/what-is-iterative-deepening-search<br>\n",
    "https://python.plainenglish.io/how-to-easily-implement-priority-queue-in-python-ceabba729d96<br>    \n"
   ]
  }
 ],
 "metadata": {
  "kernelspec": {
   "display_name": "Python 3 (ipykernel)",
   "language": "python",
   "name": "python3"
  },
  "language_info": {
   "codemirror_mode": {
    "name": "ipython",
    "version": 3
   },
   "file_extension": ".py",
   "mimetype": "text/x-python",
   "name": "python",
   "nbconvert_exporter": "python",
   "pygments_lexer": "ipython3",
   "version": "3.9.16"
  }
 },
 "nbformat": 4,
 "nbformat_minor": 5
}
